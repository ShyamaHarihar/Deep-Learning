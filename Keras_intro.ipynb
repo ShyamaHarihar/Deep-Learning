{
  "nbformat": 4,
  "nbformat_minor": 0,
  "metadata": {
    "colab": {
      "name": "Keras_intro.ipynb",
      "provenance": []
    },
    "kernelspec": {
      "name": "python3",
      "display_name": "Python 3"
    },
    "language_info": {
      "name": "python"
    }
  },
  "cells": [
    {
      "cell_type": "code",
      "metadata": {
        "id": "XZE9SYJ3qyLR"
      },
      "source": [
        "from keras.datasets import mnist \n",
        "from random import randint\n",
        "import matplotlib.pyplot as plt\n",
        "import keras\n",
        "import tensorflow as tf"
      ],
      "execution_count": 1,
      "outputs": []
    },
    {
      "cell_type": "code",
      "metadata": {
        "id": "gFXEPqOgvVYu"
      },
      "source": [
        "from tensorflow.keras.utils import to_categorical\n",
        "import keras.utils\n",
        "from keras.utils import np_utils"
      ],
      "execution_count": 2,
      "outputs": []
    },
    {
      "cell_type": "code",
      "metadata": {
        "id": "zXxh1QZ6xiQJ"
      },
      "source": [
        "from keras.models import Sequential \n",
        "from keras.layers import Dense"
      ],
      "execution_count": 3,
      "outputs": []
    },
    {
      "cell_type": "code",
      "metadata": {
        "colab": {
          "base_uri": "https://localhost:8080/"
        },
        "id": "zy2gvDipuWwj",
        "outputId": "6d0df2fe-f4f7-477b-e08a-093b0074922a"
      },
      "source": [
        "!pip install keras"
      ],
      "execution_count": 4,
      "outputs": [
        {
          "output_type": "stream",
          "name": "stdout",
          "text": [
            "Requirement already satisfied: keras in /usr/local/lib/python3.7/dist-packages (2.6.0)\n"
          ]
        }
      ]
    },
    {
      "cell_type": "code",
      "metadata": {
        "colab": {
          "base_uri": "https://localhost:8080/"
        },
        "id": "eh7-mYRRrHMG",
        "outputId": "3297562e-b6a6-4793-ea06-dacd4d24bbad"
      },
      "source": [
        "(x_train,y_train),(x_test,y_test)=mnist.load_data()"
      ],
      "execution_count": 5,
      "outputs": [
        {
          "output_type": "stream",
          "name": "stdout",
          "text": [
            "Downloading data from https://storage.googleapis.com/tensorflow/tf-keras-datasets/mnist.npz\n",
            "11493376/11490434 [==============================] - 0s 0us/step\n",
            "11501568/11490434 [==============================] - 0s 0us/step\n"
          ]
        }
      ]
    },
    {
      "cell_type": "code",
      "metadata": {
        "colab": {
          "base_uri": "https://localhost:8080/",
          "height": 282
        },
        "id": "i8F2Y6Z_rgR5",
        "outputId": "91ae062c-3c6f-4222-da47-aeba85771d49"
      },
      "source": [
        "plt.imshow(x_train[randint(0,x_train.shape[0])],cmap='gray_r')"
      ],
      "execution_count": 6,
      "outputs": [
        {
          "output_type": "execute_result",
          "data": {
            "text/plain": [
              "<matplotlib.image.AxesImage at 0x7f3d16de2c50>"
            ]
          },
          "metadata": {},
          "execution_count": 6
        },
        {
          "output_type": "display_data",
          "data": {
            "image/png": "[encoded data removed]",
            "text/plain": [
              "<Figure size 432x288 with 1 Axes>"
            ]
          },
          "metadata": {
            "needs_background": "light"
          }
        }
      ]
    },
    {
      "cell_type": "code",
      "metadata": {
        "id": "OBbJhMBTscn2"
      },
      "source": [
        "#Munge data\n",
        "#Transform from matrix to vector, cast and normalise\n",
        "image_size=28*28\n",
        "x_train=x_train.reshape(x_train.shape[0],image_size)\n",
        "x_train.astype('float32')\n",
        "x_train=x_train/255.0"
      ],
      "execution_count": 7,
      "outputs": []
    },
    {
      "cell_type": "code",
      "metadata": {
        "id": "BPe5MONTtLqr"
      },
      "source": [
        "x_test=x_test.reshape(x_test.shape[0],image_size)\n",
        "x_test.astype('float32')\n",
        "x_test=x_test/255.0\n",
        "x_train=tf.convert_to_tensor(x_train)"
      ],
      "execution_count": 8,
      "outputs": []
    },
    {
      "cell_type": "code",
      "metadata": {
        "id": "JFfz5i-ItnRG"
      },
      "source": [
        "y_train=keras.utils.np_utils.to_categorical(y_train,10)\n",
        "y_test=keras.utils.np_utils.to_categorical(y_test,10)"
      ],
      "execution_count": 9,
      "outputs": []
    },
    {
      "cell_type": "code",
      "metadata": {
        "id": "SBwbHYWX2y_X"
      },
      "source": [
        "y_train=tf.convert_to_tensor(y_train)"
      ],
      "execution_count": 10,
      "outputs": []
    },
    {
      "cell_type": "code",
      "metadata": {
        "id": "fYFmLebXuJLl"
      },
      "source": [
        "model=Sequential()"
      ],
      "execution_count": 11,
      "outputs": []
    },
    {
      "cell_type": "code",
      "metadata": {
        "id": "iDqD1P7nxPmB"
      },
      "source": [
        "layer_input=Dense(units=512,\n",
        "                  activation='sigmoid',\n",
        "                  input_shape=(image_size,)) #arbitrary number trial and error\n",
        "model.add(layer_input)"
      ],
      "execution_count": 12,
      "outputs": []
    },
    {
      "cell_type": "code",
      "metadata": {
        "id": "sV-_UJtsx-z-"
      },
      "source": [
        "#Add one more layer\n",
        "model.add(Dense(units=512,activation='sigmoid'))"
      ],
      "execution_count": 13,
      "outputs": []
    },
    {
      "cell_type": "code",
      "metadata": {
        "id": "L1v8znQ6yLrS"
      },
      "source": [
        "#Define output layer\n",
        "layer_output=Dense(units=10,activation='softmax')\n",
        "model.add(layer_output)"
      ],
      "execution_count": 14,
      "outputs": []
    },
    {
      "cell_type": "code",
      "metadata": {
        "colab": {
          "base_uri": "https://localhost:8080/"
        },
        "id": "5LX212hcyXT7",
        "outputId": "3cf6a2ee-e599-4019-a27c-f19256e8ca72"
      },
      "source": [
        "model.summary()"
      ],
      "execution_count": 15,
      "outputs": [
        {
          "output_type": "stream",
          "name": "stdout",
          "text": [
            "Model: \"sequential\"\n",
            "_________________________________________________________________\n",
            "Layer (type)                 Output Shape              Param #   \n",
            "=================================================================\n",
            "dense (Dense)                (None, 512)               401920    \n",
            "_________________________________________________________________\n",
            "dense_1 (Dense)              (None, 512)               262656    \n",
            "_________________________________________________________________\n",
            "dense_2 (Dense)              (None, 10)                5130      \n",
            "=================================================================\n",
            "Total params: 669,706\n",
            "Trainable params: 669,706\n",
            "Non-trainable params: 0\n",
            "_________________________________________________________________\n"
          ]
        }
      ]
    },
    {
      "cell_type": "code",
      "metadata": {
        "id": "sNjzVYFByhFK"
      },
      "source": [
        "model.compile(loss='categorical_crossentropy',\n",
        "              optimizer='sgd',\n",
        "              metrics=['accuracy']\n",
        "              )"
      ],
      "execution_count": 16,
      "outputs": []
    },
    {
      "cell_type": "code",
      "metadata": {
        "colab": {
          "base_uri": "https://localhost:8080/"
        },
        "id": "wLveueily0zG",
        "outputId": "1ae6438c-4d54-4a79-f912-7e2cd18d6a3d"
      },
      "source": [
        "model.fit(x_train, y_train,epochs=6,validation_split=0.1)"
      ],
      "execution_count": 17,
      "outputs": [
        {
          "output_type": "stream",
          "name": "stdout",
          "text": [
            "Epoch 1/6\n",
            "1688/1688 [==============================] - 14s 8ms/step - loss: 2.1507 - accuracy: 0.3384 - val_loss: 1.8922 - val_accuracy: 0.6363\n",
            "Epoch 2/6\n",
            "1688/1688 [==============================] - 13s 8ms/step - loss: 1.4921 - accuracy: 0.6699 - val_loss: 1.0484 - val_accuracy: 0.7792\n",
            "Epoch 3/6\n",
            "1688/1688 [==============================] - 13s 8ms/step - loss: 0.8890 - accuracy: 0.7859 - val_loss: 0.6664 - val_accuracy: 0.8580\n",
            "Epoch 4/6\n",
            "1688/1688 [==============================] - 14s 8ms/step - loss: 0.6551 - accuracy: 0.8311 - val_loss: 0.5149 - val_accuracy: 0.8783\n",
            "Epoch 5/6\n",
            "1688/1688 [==============================] - 14s 8ms/step - loss: 0.5442 - accuracy: 0.8530 - val_loss: 0.4358 - val_accuracy: 0.8900\n",
            "Epoch 6/6\n",
            "1688/1688 [==============================] - 14s 9ms/step - loss: 0.4814 - accuracy: 0.8693 - val_loss: 0.3887 - val_accuracy: 0.8987\n"
          ]
        },
        {
          "output_type": "execute_result",
          "data": {
            "text/plain": [
              "<keras.callbacks.History at 0x7f3d13f8fc10>"
            ]
          },
          "metadata": {},
          "execution_count": 17
        }
      ]
    },
    {
      "cell_type": "code",
      "metadata": {
        "colab": {
          "base_uri": "https://localhost:8080/"
        },
        "id": "h7Y7Mpzm5w7g",
        "outputId": "793e748b-c180-4d96-ff78-3e24f70dbb79"
      },
      "source": [
        "loss,accuracy=model.evaluate(x_test,y_test,verbose=True)"
      ],
      "execution_count": 18,
      "outputs": [
        {
          "output_type": "stream",
          "name": "stdout",
          "text": [
            "313/313 [==============================] - 2s 4ms/step - loss: 0.4375 - accuracy: 0.8786\n"
          ]
        }
      ]
    }
  ]
}